{
 "cells": [
  {
   "cell_type": "code",
   "execution_count": 2,
   "id": "31de0894",
   "metadata": {},
   "outputs": [],
   "source": [
    "# Setup Path"
   ]
  },
  {
   "cell_type": "code",
   "execution_count": 3,
   "id": "4d5a228f",
   "metadata": {},
   "outputs": [],
   "source": [
    "WORKSPACE_PATH = 'Tensorflow/workspace'\n",
    "SCRIPTS_PATH = 'Tensorflow/scripts'\n",
    "APIMODEL_PATH = 'Tensorflow/models'\n",
    "ANNOTATION_PATH = WORKSPACE_PATH + '/annotations'\n",
    "IMAGE_PATH = WORKSPACE_PATH + '/images'\n",
    "MODEL_PATH = WORKSPACE_PATH + '/models'\n",
    "PRETRAINED_MODEL_PATH = WORKSPACE_PATH + '/pre-trained-models'\n",
    "CONFIG_PATH = MODEL_PATH + '/my_ssd_mobnet/pipeline.config'\n",
    "CHECKPOINT_PATH = MODEL_PATH +'/my_ssd_mobnet/'"
   ]
  },
  {
   "cell_type": "code",
   "execution_count": null,
   "id": "56a02410",
   "metadata": {},
   "outputs": [],
   "source": []
  }
 ],
 "metadata": {
  "kernelspec": {
   "display_name": "Python 3 (ipykernel)",
   "language": "python",
   "name": "python3"
  },
  "language_info": {
   "codemirror_mode": {
    "name": "ipython",
    "version": 3
   },
   "file_extension": ".py",
   "mimetype": "text/x-python",
   "name": "python",
   "nbconvert_exporter": "python",
   "pygments_lexer": "ipython3",
   "version": "3.9.12"
  }
 },
 "nbformat": 4,
 "nbformat_minor": 5
}
